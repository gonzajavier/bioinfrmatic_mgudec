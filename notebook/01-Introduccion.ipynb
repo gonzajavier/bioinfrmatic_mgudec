{
 "cells": [
  {
   "cell_type": "markdown",
   "metadata": {},
   "source": [
    "Introduccion \n",
    "\n",
    "En esta sección se hablará acerca del proyecto a realizar en el curso de bioinformática y la proteína proyecto"
   ]
  },
  {
   "cell_type": "markdown",
   "metadata": {},
   "source": [
    "Glut-1 es una proteína que pertenece a la superfamilia de facilitadores mayores (MFS) siendo esta proteína esencial en el tranporte de glucosa en humanos (Liu et al, 2024)"
   ]
  }
 ],
 "metadata": {
  "language_info": {
   "name": "python"
  }
 },
 "nbformat": 4,
 "nbformat_minor": 2
}
